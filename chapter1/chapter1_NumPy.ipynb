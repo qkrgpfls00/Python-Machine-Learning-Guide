{
 "cells": [
  {
   "cell_type": "code",
   "execution_count": 1,
   "metadata": {},
   "outputs": [],
   "source": [
    "import numpy as np"
   ]
  },
  {
   "cell_type": "markdown",
   "metadata": {},
   "source": [
    "# 1.1.1 ndarray 기초"
   ]
  },
  {
   "cell_type": "code",
   "execution_count": 4,
   "metadata": {},
   "outputs": [
    {
     "name": "stdout",
     "output_type": "stream",
     "text": [
      "<class 'list'> -> <class 'numpy.ndarray'>\n"
     ]
    }
   ],
   "source": [
    "list1=[1,2,3]\n",
    "array1=np.array(list1)\n",
    "print(type(list1),\"->\",type(array1))"
   ]
  },
  {
   "cell_type": "markdown",
   "metadata": {},
   "source": [
    "* ndarray의 형태(shape)와 차원"
   ]
  },
  {
   "cell_type": "code",
   "execution_count": 9,
   "metadata": {},
   "outputs": [
    {
     "name": "stdout",
     "output_type": "stream",
     "text": [
      "array1: 1차원, array2: 2차원, array3:  2차원\n"
     ]
    }
   ],
   "source": [
    "array1=np.array([1,2,3])\n",
    "array2=np.array([[1,2,3],\n",
    "               [2,3,4]])\n",
    "array3=np.array([[1,2,3]])\n",
    "print('array1: {:0}차원, array2: {:1}차원, array3: {:2}차원'.format(array1.ndim,array2.ndim,array3.ndim))"
   ]
  },
  {
   "cell_type": "markdown",
   "metadata": {},
   "source": [
    "* ndarray 데이터 값 타입"
   ]
  },
  {
   "cell_type": "code",
   "execution_count": 10,
   "metadata": {},
   "outputs": [
    {
     "name": "stdout",
     "output_type": "stream",
     "text": [
      "['1' '2' 'test'] <U11\n"
     ]
    }
   ],
   "source": [
    "list=[1,2,'test']\n",
    "array=np.array(list) #데이터 타입의 종류가 여러가지이라면\n",
    "print(array, array.dtype) #정수형이 사이즈가 큰 문자열로 바뀌게 됨"
   ]
  },
  {
   "cell_type": "markdown",
   "metadata": {},
   "source": [
    "* astype()을 통한 타입 변환"
   ]
  },
  {
   "cell_type": "code",
   "execution_count": 13,
   "metadata": {},
   "outputs": [
    {
     "name": "stdout",
     "output_type": "stream",
     "text": [
      "[1 2 3] int32\n"
     ]
    }
   ],
   "source": [
    "array_float=np.array([1.1,2.2,3.3])\n",
    "array_int=array_float.astype('int32')\n",
    "print(array_int, array_int.dtype)"
   ]
  },
  {
   "cell_type": "markdown",
   "metadata": {},
   "source": [
    "* ndarray에서 axis기반의 연산함수 수행"
   ]
  },
  {
   "cell_type": "code",
   "execution_count": 15,
   "metadata": {},
   "outputs": [
    {
     "name": "stdout",
     "output_type": "stream",
     "text": [
      "15\n",
      "[3 5 7]\n",
      "[6 9]\n"
     ]
    }
   ],
   "source": [
    "array2=np.array([[1,2,3],\n",
    "                [2,3,4]])\n",
    "print(array2.sum())\n",
    "print(array2.sum(axis=0))\n",
    "print(array2.sum(axis=1))"
   ]
  },
  {
   "cell_type": "markdown",
   "metadata": {},
   "source": [
    "* ndarray를 편리하게 생성"
   ]
  },
  {
   "cell_type": "code",
   "execution_count": 18,
   "metadata": {},
   "outputs": [
    {
     "name": "stdout",
     "output_type": "stream",
     "text": [
      "[0 1 2 3 4 5 6 7 8 9]\n",
      "int32 (10,)\n"
     ]
    }
   ],
   "source": [
    "sequence_array = np.arange(10)\n",
    "print(sequence_array)\n",
    "print(sequence_array.dtype, sequence_array.shape)"
   ]
  },
  {
   "cell_type": "code",
   "execution_count": 20,
   "metadata": {},
   "outputs": [
    {
     "name": "stdout",
     "output_type": "stream",
     "text": [
      "[[0 0]\n",
      " [0 0]\n",
      " [0 0]]\n",
      "int32 (3, 2)\n"
     ]
    }
   ],
   "source": [
    "zero_array=np.zeros((3,2),dtype='int32')\n",
    "print(zero_array)\n",
    "print(zero_array.dtype, zero_array.shape)"
   ]
  },
  {
   "cell_type": "code",
   "execution_count": 21,
   "metadata": {},
   "outputs": [
    {
     "name": "stdout",
     "output_type": "stream",
     "text": [
      "[[1. 1.]\n",
      " [1. 1.]\n",
      " [1. 1.]]\n",
      "float64 (3, 2)\n"
     ]
    }
   ],
   "source": [
    "one_array=np.ones((3,2))\n",
    "print(one_array)\n",
    "print(one_array.dtype, one_array.shape)"
   ]
  },
  {
   "cell_type": "markdown",
   "metadata": {},
   "source": [
    "* ndarray의 shape을 변경-reshape()"
   ]
  },
  {
   "cell_type": "code",
   "execution_count": 22,
   "metadata": {},
   "outputs": [
    {
     "name": "stdout",
     "output_type": "stream",
     "text": [
      "array1:\n",
      " [0 1 2 3 4 5 6 7 8 9]\n",
      "array2:\n",
      " [[0 1 2 3 4]\n",
      " [5 6 7 8 9]]\n",
      "array3:\n",
      " [[0 1]\n",
      " [2 3]\n",
      " [4 5]\n",
      " [6 7]\n",
      " [8 9]]\n"
     ]
    }
   ],
   "source": [
    "array1=np.arange(10)\n",
    "array2=array1.reshape(2,5)\n",
    "array3=array1.reshape(5,2)\n",
    "\n",
    "print('array1:\\n',array1)\n",
    "print('array2:\\n',array2)\n",
    "print('array3:\\n',array3)"
   ]
  },
  {
   "cell_type": "markdown",
   "metadata": {},
   "source": [
    "reshape()에 -1 인자값을 부여하여 특정 차원으로 고정된 가변적인 ndarray현태 변환"
   ]
  },
  {
   "cell_type": "code",
   "execution_count": 25,
   "metadata": {},
   "outputs": [
    {
     "name": "stdout",
     "output_type": "stream",
     "text": [
      "array1:\n",
      " [0 1 2 3 4 5 6 7 8 9]\n",
      "array2:\n",
      " [[0 1 2 3 4]\n",
      " [5 6 7 8 9]]\n",
      "array3:\n",
      " [[0 1]\n",
      " [2 3]\n",
      " [4 5]\n",
      " [6 7]\n",
      " [8 9]]\n",
      "array2d:\n",
      " [[0]\n",
      " [1]\n",
      " [2]\n",
      " [3]\n",
      " [4]\n",
      " [5]\n",
      " [6]\n",
      " [7]\n",
      " [8]\n",
      " [9]]\n",
      "array1d:\n",
      " [0 1 2 3 4 5 6 7 8 9]\n"
     ]
    }
   ],
   "source": [
    "array1=np.arange(10)\n",
    "array2=array1.reshape(-1,5) # 컬럼은 5로 고정, 로우는 컬럼크기에 맞춰 자동으로 변환\n",
    "array3=array1.reshape(5,-1) # 로우는 5로 고정, 컬럼은 로우크기에 맞춰 자동으로 변환\n",
    "array2d=array1.reshape(-1,1) # 1차원 ndarray를 2차원으로 변환, 반드시 컬럼은 1\n",
    "array1d=array2d.reshape(-1,) # 2차원 ndarray를 1차원으로 변환\n",
    "print('array1:\\n',array1)\n",
    "print('array2:\\n',array2)\n",
    "print('array3:\\n',array3)\n",
    "print('array2d:\\n',array2d)\n",
    "print('array1d:\\n',array1d)"
   ]
  },
  {
   "cell_type": "markdown",
   "metadata": {},
   "source": [
    "# 1.1.2 ndarray의 데이터 세트 선택-인덱싱(Indexing)"
   ]
  },
  {
   "cell_type": "markdown",
   "metadata": {},
   "source": [
    "* 단일 값 추출"
   ]
  },
  {
   "cell_type": "code",
   "execution_count": 30,
   "metadata": {},
   "outputs": [
    {
     "name": "stdout",
     "output_type": "stream",
     "text": [
      "array1: [1 2 3 4 5 6 7 8 9]\n",
      "value: 3 <class 'numpy.int32'>\n"
     ]
    }
   ],
   "source": [
    "array1=np.arange(start=1, stop=10)\n",
    "print('array1:',array1)\n",
    "\n",
    "value=array1[2]\n",
    "print('value:',value,type(value))"
   ]
  },
  {
   "cell_type": "code",
   "execution_count": 29,
   "metadata": {},
   "outputs": [
    {
     "name": "stdout",
     "output_type": "stream",
     "text": [
      "맨 뒤: 9\n"
     ]
    }
   ],
   "source": [
    "print(\"맨 뒤:\", array1[-1])"
   ]
  },
  {
   "cell_type": "code",
   "execution_count": 32,
   "metadata": {},
   "outputs": [
    {
     "name": "stdout",
     "output_type": "stream",
     "text": [
      "array1: [9 2 3 4 5 6 7 8 9]\n"
     ]
    }
   ],
   "source": [
    "array1[0]=9\n",
    "print('array1:',array1)"
   ]
  },
  {
   "cell_type": "code",
   "execution_count": 34,
   "metadata": {},
   "outputs": [
    {
     "name": "stdout",
     "output_type": "stream",
     "text": [
      "[[1 2 3]\n",
      " [4 5 6]\n",
      " [7 8 9]]\n",
      "(row=0, col=0) index 가리키는 값: 1\n",
      "(row=0, col=1) index 가리키는 값: 2\n",
      "(row=1, col=0) index 가리키는 값: 4\n",
      "(row=2, col=2) index 가리키는 값: 9\n"
     ]
    }
   ],
   "source": [
    "array1d=np.arange(start=1, stop=10)\n",
    "array2d=array1d.reshape(3,3)\n",
    "print(array2d)\n",
    "\n",
    "print('(row=0, col=0) index 가리키는 값:',array2d[0,0])\n",
    "print('(row=0, col=1) index 가리키는 값:',array2d[0,1])\n",
    "print('(row=1, col=0) index 가리키는 값:',array2d[1,0])\n",
    "print('(row=2, col=2) index 가리키는 값:',array2d[2,2])"
   ]
  },
  {
   "cell_type": "markdown",
   "metadata": {},
   "source": [
    "* 슬라이싱"
   ]
  },
  {
   "cell_type": "code",
   "execution_count": 36,
   "metadata": {},
   "outputs": [
    {
     "name": "stdout",
     "output_type": "stream",
     "text": [
      "[1 2 3 4 5 6 7 8 9]\n",
      "[1 2 3] <class 'numpy.ndarray'>\n"
     ]
    }
   ],
   "source": [
    "print(array1d)\n",
    "array2=array1d[0:3]\n",
    "print(array2, type(array2))"
   ]
  },
  {
   "cell_type": "code",
   "execution_count": 37,
   "metadata": {},
   "outputs": [
    {
     "name": "stdout",
     "output_type": "stream",
     "text": [
      "[1 2 3]\n",
      "[4 5 6 7 8 9]\n",
      "[1 2 3 4 5 6 7 8 9]\n"
     ]
    }
   ],
   "source": [
    "array3=array1d[:3]\n",
    "print(array3)\n",
    "\n",
    "array4=array1d[3:]\n",
    "print(array4)\n",
    "\n",
    "array5=array1d[:]\n",
    "print(array5)"
   ]
  },
  {
   "cell_type": "code",
   "execution_count": 40,
   "metadata": {},
   "outputs": [
    {
     "name": "stdout",
     "output_type": "stream",
     "text": [
      "[[1 2 3]\n",
      " [4 5 6]\n",
      " [7 8 9]]\n",
      "array2d[0:2,0:2] \n",
      " [[1 2]\n",
      " [4 5]]\n",
      "array2d[1:3,0:3] \n",
      " [[4 5 6]\n",
      " [7 8 9]]\n",
      "array2d[1:3,:] \n",
      " [[4 5 6]\n",
      " [7 8 9]]\n",
      "array2d[:,:] \n",
      " [[1 2 3]\n",
      " [4 5 6]\n",
      " [7 8 9]]\n",
      "array2d[:2,1:] \n",
      " [[2 3]\n",
      " [5 6]]\n",
      "array2d[:2,0] \n",
      " [1 4]\n"
     ]
    }
   ],
   "source": [
    "print(array2d)\n",
    "\n",
    "print('array2d[0:2,0:2] \\n', array2d[0:2,0:2])\n",
    "print('array2d[1:3,0:3] \\n', array2d[1:3,0:3])\n",
    "print('array2d[1:3,:] \\n', array2d[1:3,:])\n",
    "print('array2d[:,:] \\n', array2d[:,:])\n",
    "print('array2d[:2,1:] \\n', array2d[:2,1:])\n",
    "print('array2d[:2,0] \\n', array2d[:2,0])"
   ]
  },
  {
   "cell_type": "markdown",
   "metadata": {},
   "source": [
    "* 팬시 인덱싱"
   ]
  },
  {
   "cell_type": "code",
   "execution_count": 44,
   "metadata": {},
   "outputs": [
    {
     "name": "stdout",
     "output_type": "stream",
     "text": [
      "[[1 2 3]\n",
      " [4 5 6]\n",
      " [7 8 9]]\n",
      "array2d[[0,1],2]=> [3, 6]\n",
      "array2d[[0,2],0:2]=> [[1, 2], [7, 8]]\n",
      "array2d[[0,1]]=> [[1, 2, 3], [4, 5, 6]]\n"
     ]
    }
   ],
   "source": [
    "print(array2d)\n",
    "\n",
    "array3=array2d[[0,1],2]\n",
    "print('array2d[[0,1],2]=>',array3.tolist())\n",
    "\n",
    "array4=array2d[[0,2],0:2]\n",
    "print('array2d[[0,2],0:2]=>',array4.tolist())\n",
    "\n",
    "array5=array2d[[0,1]]\n",
    "print('array2d[[0,1]]=>',array5.tolist())"
   ]
  },
  {
   "cell_type": "markdown",
   "metadata": {},
   "source": [
    "* 불린 인덱싱"
   ]
  },
  {
   "cell_type": "code",
   "execution_count": 45,
   "metadata": {},
   "outputs": [
    {
     "name": "stdout",
     "output_type": "stream",
     "text": [
      "[1 2 3 4 5 6 7 8 9]\n"
     ]
    }
   ],
   "source": [
    "print(array1d)"
   ]
  },
  {
   "cell_type": "code",
   "execution_count": 46,
   "metadata": {},
   "outputs": [
    {
     "name": "stdout",
     "output_type": "stream",
     "text": [
      "[False False False False False  True  True  True  True]\n"
     ]
    }
   ],
   "source": [
    "print(array1d>5) #조건식이 ndarray로 반환: T,F로 반환"
   ]
  },
  {
   "cell_type": "code",
   "execution_count": 47,
   "metadata": {},
   "outputs": [
    {
     "name": "stdout",
     "output_type": "stream",
     "text": [
      "[6 7 8 9]\n"
     ]
    }
   ],
   "source": [
    "array=array1d[array1d>5]\n",
    "print(array)"
   ]
  },
  {
   "cell_type": "markdown",
   "metadata": {},
   "source": [
    "# 1.1.3 행렬의 정렬-sort()와 argsort()"
   ]
  },
  {
   "cell_type": "markdown",
   "metadata": {},
   "source": [
    "* 행렬의 정렬-sort()"
   ]
  },
  {
   "cell_type": "code",
   "execution_count": 51,
   "metadata": {},
   "outputs": [
    {
     "name": "stdout",
     "output_type": "stream",
     "text": [
      "원본 행렬: [3 1 9 5]\n",
      "np.sort() 호출 후 반환된 정렬 행렬: [1 3 5 9]\n",
      "np.sort() 호출 후 원본 행렬: [3 1 9 5]\n",
      "org_array.sort() 호출 후 반환된 정렬 행렬: None\n",
      "org_array.sort() 호출 후 원본 행렬: [1 3 5 9]\n"
     ]
    }
   ],
   "source": [
    "org_array=np.array([3,1,9,5])\n",
    "print('원본 행렬:',org_array)\n",
    "\n",
    "# np.sort()로 정렬\n",
    "sort_array1=np.sort(org_array)\n",
    "print('np.sort() 호출 후 반환된 정렬 행렬:',sort_array1)\n",
    "print('np.sort() 호출 후 원본 행렬:',org_array)\n",
    "\n",
    "# ndarray.sort()로 정렬\n",
    "sort_array2=org_array.sort()\n",
    "org_array.sort() # 반환값 None\n",
    "print('org_array.sort() 호출 후 반환된 정렬 행렬:',sort_array2)\n",
    "print('org_array.sort() 호출 후 원본 행렬:',org_array)"
   ]
  },
  {
   "cell_type": "code",
   "execution_count": 52,
   "metadata": {},
   "outputs": [
    {
     "name": "stdout",
     "output_type": "stream",
     "text": [
      "[1 3 5 9] -> [9 5 3 1]\n"
     ]
    }
   ],
   "source": [
    "# 내림차순으로 정렬\n",
    "sort_array1_desc=np.sort(org_array)[::-1]\n",
    "print(org_array,'->',sort_array1_desc)"
   ]
  },
  {
   "cell_type": "code",
   "execution_count": 53,
   "metadata": {},
   "outputs": [
    {
     "name": "stdout",
     "output_type": "stream",
     "text": [
      "로우 방향으로 정렬:\n",
      " [[ 7  1]\n",
      " [ 8 12]]\n",
      "컬럼 방향으로 정렬:\n",
      " [[ 8 12]\n",
      " [ 1  7]]\n"
     ]
    }
   ],
   "source": [
    "array2d=np.array([[8,12],\n",
    "                 [7,1]])\n",
    "\n",
    "sort_array2d_axis0=np.sort(array2d,axis=0)\n",
    "print('로우 방향으로 정렬:\\n',sort_array2d_axis0)\n",
    "\n",
    "sort_array2d_axis1=np.sort(array2d,axis=1)\n",
    "print('컬럼 방향으로 정렬:\\n',sort_array2d_axis1)"
   ]
  },
  {
   "cell_type": "markdown",
   "metadata": {},
   "source": [
    "* 정렬된 행렬의 인덱스를 반환-ardsort()"
   ]
  },
  {
   "cell_type": "code",
   "execution_count": 57,
   "metadata": {},
   "outputs": [
    {
     "name": "stdout",
     "output_type": "stream",
     "text": [
      "[1 3 5 9]\n",
      "<class 'numpy.ndarray'>\n",
      "행렬 정렬 시 원본 행렬의 인덱스: [1 0 3 2]\n",
      "행렬 내림차순 정렬 시 원본 행렬의 인덱스: [2 3 0 1]\n"
     ]
    }
   ],
   "source": [
    "org_array=np.array([3,1,9,5])\n",
    "print(np.sort(org_array))\n",
    "\n",
    "sort_indices=np.argsort(org_array)\n",
    "print(type(sort_indices))\n",
    "print('행렬 정렬 시 원본 행렬의 인덱스:',sort_indices)\n",
    "\n",
    "# 내림차순\n",
    "print('행렬 내림차순 정렬 시 원본 행렬의 인덱스:',np.argsort(org_array)[::-1])"
   ]
  },
  {
   "cell_type": "code",
   "execution_count": 58,
   "metadata": {},
   "outputs": [
    {
     "name": "stdout",
     "output_type": "stream",
     "text": [
      "sort indices: [0 2 4 1 3]\n",
      "['John' 'Sarah' 'Samuel' 'Mike' 'Kate']\n",
      "[78 84 88 95 98]\n"
     ]
    }
   ],
   "source": [
    "# key-value 매핑을 해야할 때 argsort()를 이용하여 key값을 정렬\n",
    "\n",
    "name_array=np.array(['John','Mike','Sarah','Kate','Samuel'])\n",
    "score_array=np.array([78,95,84,98,88])\n",
    "\n",
    "# score_array의 정렬된 값에 해당하는 원본 행렬 위치 인덱스를 반환하고 이를 이용하여 name_array에서 name값 추출\n",
    "sort_indices=np.argsort(score_array)\n",
    "print(\"sort indices:\",sort_indices)\n",
    "\n",
    "name_array_sort=name_array[sort_indices]\n",
    "score_array_sort=score_array[sort_indices]\n",
    "print(name_array_sort)\n",
    "print(score_array_sort)"
   ]
  },
  {
   "cell_type": "markdown",
   "metadata": {},
   "source": [
    "# 1.1.4 선형대수 연산-행렬내적과 전치행렬 구하기"
   ]
  },
  {
   "cell_type": "markdown",
   "metadata": {},
   "source": [
    "* 행렬 내적(행렬 곱)"
   ]
  },
  {
   "cell_type": "code",
   "execution_count": 60,
   "metadata": {},
   "outputs": [
    {
     "name": "stdout",
     "output_type": "stream",
     "text": [
      "행렬 내적 결과:\n",
      " [[ 58  64]\n",
      " [139 154]]\n"
     ]
    }
   ],
   "source": [
    "A=np.array([[1,2,3],\n",
    "           [4,5,6]])\n",
    "B=np.array([[7,8],\n",
    "           [9,10],\n",
    "           [11,12]])\n",
    "\n",
    "dot_product=np.dot(A,B)\n",
    "print('행렬 내적 결과:\\n',dot_product)"
   ]
  },
  {
   "cell_type": "markdown",
   "metadata": {},
   "source": [
    "* 전치 행렬"
   ]
  },
  {
   "cell_type": "code",
   "execution_count": 61,
   "metadata": {},
   "outputs": [
    {
     "name": "stdout",
     "output_type": "stream",
     "text": [
      "A의 전치 행렬:\n",
      " [[1 3]\n",
      " [2 4]]\n"
     ]
    }
   ],
   "source": [
    "A=np.array([[1,2],\n",
    "           [3,4]])\n",
    "transpose_mat=np.transpose(A)\n",
    "print('A의 전치 행렬:\\n',transpose_mat)"
   ]
  }
 ],
 "metadata": {
  "kernelspec": {
   "display_name": "Python 3",
   "language": "python",
   "name": "python3"
  },
  "language_info": {
   "codemirror_mode": {
    "name": "ipython",
    "version": 3
   },
   "file_extension": ".py",
   "mimetype": "text/x-python",
   "name": "python",
   "nbconvert_exporter": "python",
   "pygments_lexer": "ipython3",
   "version": "3.8.5"
  }
 },
 "nbformat": 4,
 "nbformat_minor": 4
}
